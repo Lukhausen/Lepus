{
 "cells": [
  {
   "cell_type": "code",
   "execution_count": 3,
   "metadata": {},
   "outputs": [
    {
     "name": "stdout",
     "output_type": "stream",
     "text": [
      "Total cases: 30138\n",
      "Succeeded: 30138\n",
      "Failed: 0\n"
     ]
    }
   ],
   "source": [
    "import json\n",
    "import ast\n",
    "\n",
    "# File path to your .jsonl file\n",
    "jsonl_path = \"formatted_arc_tasks_custom.jsonl\"\n",
    "\n",
    "# Initialize counters\n",
    "success_count = 0\n",
    "fail_count = 0\n",
    "total_count = 0\n",
    "\n",
    "# Optional: list to store failures for debugging\n",
    "failures = []\n",
    "\n",
    "# Helper to safely evaluate using ast.literal_eval\n",
    "def safe_eval(s):\n",
    "    try:\n",
    "        return ast.literal_eval(s)\n",
    "    except Exception:\n",
    "        return None\n",
    "\n",
    "# Open and parse JSONL file\n",
    "with open(jsonl_path, \"r\", encoding=\"utf-8\") as file:\n",
    "    for line in file:\n",
    "        total_count += 1\n",
    "        try:\n",
    "            data = json.loads(line)\n",
    "            raw_answer = data.get(\"test_answer\")\n",
    "\n",
    "            # Convert to string and evaluate\n",
    "            parsed_answer = safe_eval(str(raw_answer))\n",
    "\n",
    "            if isinstance(parsed_answer, list):\n",
    "                success_count += 1\n",
    "            else:\n",
    "                fail_count += 1\n",
    "                failures.append((data.get(\"test\"), raw_answer))\n",
    "        except Exception as e:\n",
    "            fail_count += 1\n",
    "            failures.append((line, str(e)))\n",
    "\n",
    "# Print summary\n",
    "print(f\"Total cases: {total_count}\")\n",
    "print(f\"Succeeded: {success_count}\")\n",
    "print(f\"Failed: {fail_count}\")\n",
    "\n",
    "# Optional: Show some failed examples\n",
    "if failures:\n",
    "    print(\"\\nExamples of failed entries:\")\n",
    "    for i, failure in enumerate(failures[:3]):\n",
    "        print(f\"\\nFailure {i + 1}:\")\n",
    "        print(failure)\n"
   ]
  }
 ],
 "metadata": {
  "kernelspec": {
   "display_name": "Python 3",
   "language": "python",
   "name": "python3"
  },
  "language_info": {
   "codemirror_mode": {
    "name": "ipython",
    "version": 3
   },
   "file_extension": ".py",
   "mimetype": "text/x-python",
   "name": "python",
   "nbconvert_exporter": "python",
   "pygments_lexer": "ipython3",
   "version": "3.12.7"
  }
 },
 "nbformat": 4,
 "nbformat_minor": 2
}
